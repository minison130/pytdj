{
 "cells": [
  {
   "cell_type": "markdown",
   "metadata": {},
   "source": [
    "(from https://qiita.com/fukuit/items/b3fa460577a0ea139c88)\n",
    "## クラス・関数の準備"
   ]
  },
  {
   "cell_type": "code",
   "execution_count": 1,
   "metadata": {},
   "outputs": [],
   "source": [
    "from matplotlib import pyplot as plt\n",
    "%matplotlib inline\n",
    "def plot_result(history):\n",
    "    '''\n",
    "    plot result\n",
    "    全ての学習が終了した後に、historyを参照して、accuracyとlossをそれぞれplotする\n",
    "    '''\n",
    "\n",
    "    # accuracy\n",
    "    plt.figure()\n",
    "    plt.plot(history.history['acc'], label='acc', marker='.')\n",
    "    plt.plot(history.history['val_acc'], label='val_acc', marker='.')\n",
    "    plt.grid()\n",
    "    plt.legend(loc='best')\n",
    "    plt.title('accuracy')\n",
    "    plt.savefig('graph_accuracy.png')\n",
    "    plt.show()\n",
    "\n",
    "    # loss\n",
    "    plt.figure()\n",
    "    plt.plot(history.history['loss'], label='loss', marker='.')\n",
    "    plt.plot(history.history['val_loss'], label='val_loss', marker='.')\n",
    "    plt.grid()\n",
    "    plt.legend(loc='best')\n",
    "    plt.title('loss')\n",
    "    plt.savefig('graph_loss.png')\n",
    "    plt.show()"
   ]
  },
  {
   "cell_type": "markdown",
   "metadata": {},
   "source": [
    "(from https://qiita.com/fukuit/items/b3fa460577a0ea139c88)\n",
    "\n",
    "## MNISTのデータをダウンロードしておく\n",
    "kearsではデータセットとしてMNISTが公開されている。\n",
    "\n",
    "とりあえず、一旦、データセットだけをダウンロードしておきたいので、ipythonで以下のように実行すると、~/.keras/datasets/にmnist.npzというファイルが保存される。"
   ]
  },
  {
   "cell_type": "code",
   "execution_count": 2,
   "metadata": {},
   "outputs": [
    {
     "name": "stderr",
     "output_type": "stream",
     "text": [
      "Using TensorFlow backend.\n"
     ]
    },
    {
     "name": "stdout",
     "output_type": "stream",
     "text": [
      "Downloading data from https://s3.amazonaws.com/img-datasets/mnist.npz\n",
      "11493376/11490434 [==============================] - 4s 0us/step\n",
      "11501568/11490434 [==============================] - 4s 0us/step\n"
     ]
    }
   ],
   "source": [
    "import keras\n",
    "from keras.datasets import mnist\n",
    "(x_train, y_train), (x_test, y_test) = mnist.load_data()"
   ]
  },
  {
   "cell_type": "markdown",
   "metadata": {},
   "source": [
    "これにより、x_trainには60000個の学習用データ、y_trainにはそれに対応するラベル、x_testには10000個のテスト用データと、ソレに対応するラベルであるy_testという変数が、それぞれ作成される。\n",
    "\n",
    "機械学習の勉強をしていると、必ず「trainingセットとtestセットとvalidationセットは別にしておけよ」と言われると思うんだけれど、これだとtrainingセットとtestセットしかないじゃん。というワケで、trainingセットから、10000個くらいをランダムに選んで、validationセットも作っておくことにする。"
   ]
  },
  {
   "cell_type": "code",
   "execution_count": 3,
   "metadata": {},
   "outputs": [],
   "source": [
    "from sklearn.model_selection import train_test_split\n",
    "x_train1, x_valid, y_train1, y_valid = train_test_split(x_train, y_train, test_size=0.175)"
   ]
  },
  {
   "cell_type": "markdown",
   "metadata": {},
   "source": [
    "これで、validationセットが10500個できた。\n",
    "\n",
    "## MNISTをConvolutional Neural Networkで解く\n",
    "### modelの作成\n",
    "とりあえず、modelを作る。"
   ]
  },
  {
   "cell_type": "code",
   "execution_count": 4,
   "metadata": {},
   "outputs": [
    {
     "name": "stdout",
     "output_type": "stream",
     "text": [
      "WARNING:tensorflow:From /usr/local/lib/python2.7/dist-packages/tensorflow/python/framework/op_def_library.py:263: colocate_with (from tensorflow.python.framework.ops) is deprecated and will be removed in a future version.\n",
      "Instructions for updating:\n",
      "Colocations handled automatically by placer.\n",
      "WARNING:tensorflow:From /usr/local/lib/python2.7/dist-packages/keras/backend/tensorflow_backend.py:3445: calling dropout (from tensorflow.python.ops.nn_ops) with keep_prob is deprecated and will be removed in a future version.\n",
      "Instructions for updating:\n",
      "Please use `rate` instead of `keep_prob`. Rate should be set to `rate = 1 - keep_prob`.\n"
     ]
    }
   ],
   "source": [
    "from keras.models import Sequential\n",
    "from keras.layers import Dense, Dropout, Flatten\n",
    "from keras.layers import Conv2D, MaxPooling2D\n",
    "\n",
    "model = Sequential()\n",
    "model.add(Conv2D(32, kernel_size=(3, 3), activation='relu', input_shape=(28, 28, 1)))\n",
    "model.add(Conv2D(64, (3, 3), activation='relu'))\n",
    "model.add(MaxPooling2D(pool_size=(2, 2)))\n",
    "model.add(Dropout(0.25))\n",
    "model.add(Flatten())\n",
    "model.add(Dense(128, activation='relu'))\n",
    "model.add(Dropout(0.5))\n",
    "model.add(Dense(10, activation='softmax'))"
   ]
  },
  {
   "cell_type": "markdown",
   "metadata": {},
   "source": [
    "ちゃんと過学習しないように、Dropout()しておく。\n",
    "\n",
    "### 学習\n",
    "学習する。最適化には、RMSprop()を使う。examplesには、Adadelta()を使うって書いてあるんだけれど、なんとなくRMSprop()で。\n",
    "こういうのの選び方って、鉄則みたいなのあるんですかね。\n",
    "\n",
    "学習前に、x_train、x_valid、x_test、y_train、y_valid、y_testの前処理をする。"
   ]
  },
  {
   "cell_type": "code",
   "execution_count": 5,
   "metadata": {},
   "outputs": [],
   "source": [
    "# 28 x 28の画像がgrayscaleで1chなので、28, 28, 1にreshapeする\n",
    "x_train = x_train.reshape(x_train.shape[0], 28, 28, 1)\n",
    "x_valid = x_valid.reshape(x_valid.shape[0], 28, 28, 1)\n",
    "x_test = x_test.reshape(x_test.shape[0], 28, 28, 1)\n",
    "\n",
    "# 0-255の整数値を0〜1の小数に変換する\n",
    "# MNISTって必ずこの処理入るけれど、意味あるのかな\n",
    "x_train = x_train.astype('float32')\n",
    "x_valid = x_valid.astype('float32')\n",
    "x_test = x_test.astype('float32')\n",
    "x_train /= 255\n",
    "x_valid /= 255\n",
    "x_test /= 255\n",
    "\n",
    "# one-hot vector形式に変換する\n",
    "y_train = keras.utils.to_categorical(y_train, 10)\n",
    "y_valid = keras.utils.to_categorical(y_valid, 10)\n",
    "y_test = keras.utils.to_categorical(y_test, 10)"
   ]
  },
  {
   "cell_type": "markdown",
   "metadata": {},
   "source": [
    "前処理が済んだら、学習する。"
   ]
  },
  {
   "cell_type": "code",
   "execution_count": 6,
   "metadata": {},
   "outputs": [
    {
     "name": "stdout",
     "output_type": "stream",
     "text": [
      "_________________________________________________________________\n",
      "Layer (type)                 Output Shape              Param #   \n",
      "=================================================================\n",
      "conv2d_1 (Conv2D)            (None, 26, 26, 32)        320       \n",
      "_________________________________________________________________\n",
      "conv2d_2 (Conv2D)            (None, 24, 24, 64)        18496     \n",
      "_________________________________________________________________\n",
      "max_pooling2d_1 (MaxPooling2 (None, 12, 12, 64)        0         \n",
      "_________________________________________________________________\n",
      "dropout_1 (Dropout)          (None, 12, 12, 64)        0         \n",
      "_________________________________________________________________\n",
      "flatten_1 (Flatten)          (None, 9216)              0         \n",
      "_________________________________________________________________\n",
      "dense_1 (Dense)              (None, 128)               1179776   \n",
      "_________________________________________________________________\n",
      "dropout_2 (Dropout)          (None, 128)               0         \n",
      "_________________________________________________________________\n",
      "dense_2 (Dense)              (None, 10)                1290      \n",
      "=================================================================\n",
      "Total params: 1,199,882\n",
      "Trainable params: 1,199,882\n",
      "Non-trainable params: 0\n",
      "_________________________________________________________________\n",
      "None\n",
      "WARNING:tensorflow:From /usr/local/lib/python2.7/dist-packages/tensorflow/python/ops/math_ops.py:3066: to_int32 (from tensorflow.python.ops.math_ops) is deprecated and will be removed in a future version.\n",
      "Instructions for updating:\n",
      "Use tf.cast instead.\n",
      "Train on 60000 samples, validate on 10500 samples\n",
      "Epoch 1/10\n",
      "60000/60000 [==============================] - 162s 3ms/step - loss: 0.2372 - acc: 0.9284 - val_loss: 0.0568 - val_acc: 0.9817\n",
      "Epoch 2/10\n",
      "60000/60000 [==============================] - 157s 3ms/step - loss: 0.0828 - acc: 0.9756 - val_loss: 0.0350 - val_acc: 0.9888\n",
      "Epoch 3/10\n",
      "60000/60000 [==============================] - 156s 3ms/step - loss: 0.0660 - acc: 0.9807 - val_loss: 0.0310 - val_acc: 0.9907\n",
      "Epoch 4/10\n",
      "60000/60000 [==============================] - 162s 3ms/step - loss: 0.0574 - acc: 0.9835 - val_loss: 0.0242 - val_acc: 0.9929\n",
      "Epoch 5/10\n",
      "60000/60000 [==============================] - 161s 3ms/step - loss: 0.0526 - acc: 0.9851 - val_loss: 0.0247 - val_acc: 0.9930\n",
      "Epoch 6/10\n",
      "60000/60000 [==============================] - 189s 3ms/step - loss: 0.0530 - acc: 0.9850 - val_loss: 0.0249 - val_acc: 0.9941\n",
      "Epoch 7/10\n",
      "60000/60000 [==============================] - 181s 3ms/step - loss: 0.0539 - acc: 0.9853 - val_loss: 0.0265 - val_acc: 0.9928\n",
      "Epoch 8/10\n",
      "60000/60000 [==============================] - 168s 3ms/step - loss: 0.0550 - acc: 0.9848 - val_loss: 0.0205 - val_acc: 0.9935\n",
      "Epoch 9/10\n",
      "60000/60000 [==============================] - 156s 3ms/step - loss: 0.0543 - acc: 0.9852 - val_loss: 0.0250 - val_acc: 0.9930\n",
      "Epoch 10/10\n",
      "60000/60000 [==============================] - 156s 3ms/step - loss: 0.0565 - acc: 0.9852 - val_loss: 0.0228 - val_acc: 0.9928\n"
     ]
    }
   ],
   "source": [
    "from keras.optimizers import RMSprop\n",
    "from keras.callbacks import Callback, CSVLogger\n",
    "\n",
    "print(model.summary())\n",
    "\n",
    "batch_size = 128\n",
    "epochs = 10\n",
    "\n",
    "# callback function\n",
    "csv_logger = CSVLogger('./trainlog.csv')\n",
    "\n",
    "model.compile(loss='categorical_crossentropy',\n",
    "              optimizer=RMSprop(),\n",
    "              metrics=['accuracy'])\n",
    "\n",
    "# train\n",
    "history = model.fit(x_train, y_train,\n",
    "                    batch_size=batch_size, epochs=epochs,\n",
    "                    verbose=1,\n",
    "                    validation_data=(x_valid, y_valid),\n",
    "                    callbacks=[csv_logger])"
   ]
  },
  {
   "cell_type": "markdown",
   "metadata": {},
   "source": [
    "学習した結果は、次のようにすると表示できた。\n",
    "評価は、学習に使っていないx_test、y_testで行う。"
   ]
  },
  {
   "cell_type": "code",
   "execution_count": 7,
   "metadata": {},
   "outputs": [
    {
     "name": "stdout",
     "output_type": "stream",
     "text": [
      "('Test loss:', 0.034617060166123335)\n",
      "('Test accuracy:', 0.9886)\n"
     ]
    },
    {
     "data": {
      "image/png": "[encoded data removed]",
      "text/plain": [
       "<Figure size 432x288 with 1 Axes>"
      ]
     },
     "metadata": {
      "needs_background": "light"
     },
     "output_type": "display_data"
    },
    {
     "data": {
      "image/png": "[encoded data removed]",
      "text/plain": [
       "<Figure size 432x288 with 1 Axes>"
      ]
     },
     "metadata": {
      "needs_background": "light"
     },
     "output_type": "display_data"
    }
   ],
   "source": [
    "score = model.evaluate(x_test, y_test, verbose=0)\n",
    "print('Test loss:', score[0])\n",
    "print('Test accuracy:', score[1])\n",
    "plot_result(history)"
   ]
  },
  {
   "cell_type": "code",
   "execution_count": null,
   "metadata": {},
   "outputs": [],
   "source": []
  },
  {
   "cell_type": "code",
   "execution_count": null,
   "metadata": {},
   "outputs": [],
   "source": []
  },
  {
   "cell_type": "markdown",
   "metadata": {},
   "source": []
  }
 ],
 "metadata": {
  "kernelspec": {
   "display_name": "Python 2",
   "language": "python",
   "name": "python2"
  },
  "language_info": {
   "codemirror_mode": {
    "name": "ipython",
    "version": 2
   },
   "file_extension": ".py",
   "mimetype": "text/x-python",
   "name": "python",
   "nbconvert_exporter": "python",
   "pygments_lexer": "ipython2",
   "version": "2.7.12"
  }
 },
 "nbformat": 4,
 "nbformat_minor": 2
}
